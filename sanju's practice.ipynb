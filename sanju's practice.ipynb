{
 "cells": [
  {
   "cell_type": "code",
   "execution_count": 1,
   "id": "8d46ff5c",
   "metadata": {},
   "outputs": [
    {
     "name": "stdout",
     "output_type": "stream",
     "text": [
      "Hello all welcome to the python world..!\n"
     ]
    }
   ],
   "source": [
    "print(\"Hello all welcome to the python world..!\")"
   ]
  },
  {
   "cell_type": "code",
   "execution_count": null,
   "id": "e05b54ac",
   "metadata": {},
   "outputs": [],
   "source": []
  },
  {
   "cell_type": "code",
   "execution_count": null,
   "id": "56180670",
   "metadata": {},
   "outputs": [],
   "source": [
    "Day 2"
   ]
  },
  {
   "cell_type": "code",
   "execution_count": 2,
   "id": "e62ae76f",
   "metadata": {},
   "outputs": [],
   "source": [
    "x = 3\n",
    "y = 9"
   ]
  },
  {
   "cell_type": "code",
   "execution_count": 3,
   "id": "23b15691",
   "metadata": {},
   "outputs": [],
   "source": [
    "z = x-y"
   ]
  },
  {
   "cell_type": "code",
   "execution_count": 4,
   "id": "726ac3ef",
   "metadata": {},
   "outputs": [
    {
     "name": "stdout",
     "output_type": "stream",
     "text": [
      "-6\n"
     ]
    }
   ],
   "source": [
    "print(z)"
   ]
  },
  {
   "cell_type": "code",
   "execution_count": null,
   "id": "2a4700b6",
   "metadata": {},
   "outputs": [],
   "source": []
  },
  {
   "cell_type": "code",
   "execution_count": 5,
   "id": "4d797aa9",
   "metadata": {},
   "outputs": [],
   "source": [
    "z = x*y"
   ]
  },
  {
   "cell_type": "code",
   "execution_count": 6,
   "id": "75fa2666",
   "metadata": {},
   "outputs": [
    {
     "name": "stdout",
     "output_type": "stream",
     "text": [
      "27\n"
     ]
    }
   ],
   "source": [
    "print(z)"
   ]
  },
  {
   "cell_type": "code",
   "execution_count": null,
   "id": "dd0f1448",
   "metadata": {},
   "outputs": [],
   "source": []
  },
  {
   "cell_type": "code",
   "execution_count": 7,
   "id": "dcc2d7fb",
   "metadata": {},
   "outputs": [],
   "source": [
    "z = x + y"
   ]
  },
  {
   "cell_type": "code",
   "execution_count": 8,
   "id": "3c6df780",
   "metadata": {},
   "outputs": [
    {
     "name": "stdout",
     "output_type": "stream",
     "text": [
      "12\n"
     ]
    }
   ],
   "source": [
    "print(z)"
   ]
  },
  {
   "cell_type": "code",
   "execution_count": null,
   "id": "1b6e9a64",
   "metadata": {},
   "outputs": [],
   "source": []
  },
  {
   "cell_type": "code",
   "execution_count": null,
   "id": "c1a60a70",
   "metadata": {},
   "outputs": [],
   "source": [
    "rules for declaring the varibles in python:"
   ]
  },
  {
   "cell_type": "code",
   "execution_count": null,
   "id": "3b707d9b",
   "metadata": {},
   "outputs": [],
   "source": []
  },
  {
   "cell_type": "code",
   "execution_count": null,
   "id": "c6dd3991",
   "metadata": {},
   "outputs": [],
   "source": [
    "rule 1 first name firstname _"
   ]
  },
  {
   "cell_type": "code",
   "execution_count": null,
   "id": "70128288",
   "metadata": {},
   "outputs": [],
   "source": [
    "1name name1 rule 2 a variable should not start with a number "
   ]
  },
  {
   "cell_type": "code",
   "execution_count": null,
   "id": "24412538",
   "metadata": {},
   "outputs": [],
   "source": [
    "rule special characters @# "
   ]
  },
  {
   "cell_type": "code",
   "execution_count": 10,
   "id": "fabfb092",
   "metadata": {},
   "outputs": [],
   "source": [
    "name1 = 'sanju'"
   ]
  },
  {
   "cell_type": "code",
   "execution_count": 11,
   "id": "e2f58b2d",
   "metadata": {},
   "outputs": [
    {
     "name": "stdout",
     "output_type": "stream",
     "text": [
      "sanju\n"
     ]
    }
   ],
   "source": [
    "print(name1)"
   ]
  },
  {
   "cell_type": "code",
   "execution_count": null,
   "id": "9a2b0b1c",
   "metadata": {},
   "outputs": [],
   "source": []
  },
  {
   "cell_type": "code",
   "execution_count": 12,
   "id": "c976bd2f",
   "metadata": {},
   "outputs": [
    {
     "ename": "SyntaxError",
     "evalue": "invalid syntax (3500361661.py, line 1)",
     "output_type": "error",
     "traceback": [
      "\u001b[0;36m  File \u001b[0;32m\"/tmp/ipykernel_403/3500361661.py\"\u001b[0;36m, line \u001b[0;32m1\u001b[0m\n\u001b[0;31m    name@ = 'bb'\u001b[0m\n\u001b[0m          ^\u001b[0m\n\u001b[0;31mSyntaxError\u001b[0m\u001b[0;31m:\u001b[0m invalid syntax\n"
     ]
    }
   ],
   "source": [
    "name@ = 'bb'"
   ]
  },
  {
   "cell_type": "code",
   "execution_count": 14,
   "id": "ac681fe4",
   "metadata": {},
   "outputs": [
    {
     "name": "stdout",
     "output_type": "stream",
     "text": [
      "name@\n"
     ]
    }
   ],
   "source": [
    "print('name@')"
   ]
  },
  {
   "cell_type": "code",
   "execution_count": null,
   "id": "a84fae06",
   "metadata": {},
   "outputs": [],
   "source": []
  },
  {
   "cell_type": "code",
   "execution_count": null,
   "id": "f321ebe6",
   "metadata": {},
   "outputs": [],
   "source": [
    "name& = 'bubbly'"
   ]
  },
  {
   "cell_type": "code",
   "execution_count": 17,
   "id": "bf60f1c5",
   "metadata": {},
   "outputs": [
    {
     "name": "stdout",
     "output_type": "stream",
     "text": [
      "name&\n"
     ]
    }
   ],
   "source": [
    "print('name&')"
   ]
  },
  {
   "cell_type": "code",
   "execution_count": null,
   "id": "efd207ed",
   "metadata": {},
   "outputs": [],
   "source": []
  },
  {
   "cell_type": "code",
   "execution_count": null,
   "id": "77ff3033",
   "metadata": {},
   "outputs": [],
   "source": [
    "datatypes mutu fixed string single doouble triple "
   ]
  },
  {
   "cell_type": "code",
   "execution_count": 21,
   "id": "666de0c9",
   "metadata": {},
   "outputs": [],
   "source": [
    "name = 'sanju'"
   ]
  },
  {
   "cell_type": "code",
   "execution_count": 22,
   "id": "c3029fd4",
   "metadata": {},
   "outputs": [
    {
     "name": "stdout",
     "output_type": "stream",
     "text": [
      "sanju\n"
     ]
    }
   ],
   "source": [
    "print(name)"
   ]
  },
  {
   "cell_type": "code",
   "execution_count": null,
   "id": "24abdac4",
   "metadata": {},
   "outputs": [],
   "source": []
  },
  {
   "cell_type": "code",
   "execution_count": 24,
   "id": "4720e321",
   "metadata": {},
   "outputs": [],
   "source": [
    "name2 = \"nakshatra\""
   ]
  },
  {
   "cell_type": "code",
   "execution_count": 25,
   "id": "c5a01d87",
   "metadata": {},
   "outputs": [
    {
     "name": "stdout",
     "output_type": "stream",
     "text": [
      "nakshatra\n"
     ]
    }
   ],
   "source": [
    "print(name2)"
   ]
  },
  {
   "cell_type": "code",
   "execution_count": 26,
   "id": "c73d2514",
   "metadata": {},
   "outputs": [],
   "source": [
    "name3 = \"\"\"nani\"\"\""
   ]
  },
  {
   "cell_type": "code",
   "execution_count": 27,
   "id": "c9c52f11",
   "metadata": {},
   "outputs": [
    {
     "name": "stdout",
     "output_type": "stream",
     "text": [
      "nani\n"
     ]
    }
   ],
   "source": [
    "print(name3)"
   ]
  },
  {
   "cell_type": "code",
   "execution_count": null,
   "id": "7a15c725",
   "metadata": {},
   "outputs": [],
   "source": []
  },
  {
   "cell_type": "code",
   "execution_count": 28,
   "id": "fda9028d",
   "metadata": {},
   "outputs": [],
   "source": [
    "# nani }"
   ]
  },
  {
   "cell_type": "code",
   "execution_count": 29,
   "id": "a6d02232",
   "metadata": {},
   "outputs": [
    {
     "ename": "NameError",
     "evalue": "name 'nani' is not defined",
     "output_type": "error",
     "traceback": [
      "\u001b[0;31m---------------------------------------------------------------------------\u001b[0m",
      "\u001b[0;31mNameError\u001b[0m                                 Traceback (most recent call last)",
      "\u001b[0;32m/tmp/ipykernel_403/2976110563.py\u001b[0m in \u001b[0;36m<module>\u001b[0;34m\u001b[0m\n\u001b[0;32m----> 1\u001b[0;31m \u001b[0mnani\u001b[0m\u001b[0;34m\u001b[0m\u001b[0;34m\u001b[0m\u001b[0m\n\u001b[0m",
      "\u001b[0;31mNameError\u001b[0m: name 'nani' is not defined"
     ]
    }
   ],
   "source": [
    "nani "
   ]
  },
  {
   "cell_type": "code",
   "execution_count": 30,
   "id": "7d25d7dc",
   "metadata": {},
   "outputs": [],
   "source": [
    "# nani"
   ]
  },
  {
   "cell_type": "code",
   "execution_count": null,
   "id": "772bcbc2",
   "metadata": {},
   "outputs": [],
   "source": [
    "string  "
   ]
  },
  {
   "cell_type": "code",
   "execution_count": 31,
   "id": "28022c53",
   "metadata": {},
   "outputs": [
    {
     "data": {
      "text/plain": [
       "str"
      ]
     },
     "execution_count": 31,
     "metadata": {},
     "output_type": "execute_result"
    }
   ],
   "source": [
    "type(name)"
   ]
  },
  {
   "cell_type": "code",
   "execution_count": 33,
   "id": "1026f6df",
   "metadata": {},
   "outputs": [
    {
     "data": {
      "text/plain": [
       "str"
      ]
     },
     "execution_count": 33,
     "metadata": {},
     "output_type": "execute_result"
    }
   ],
   "source": [
    "type('name2')"
   ]
  },
  {
   "cell_type": "code",
   "execution_count": 34,
   "id": "3cfa1678",
   "metadata": {},
   "outputs": [
    {
     "data": {
      "text/plain": [
       "str"
      ]
     },
     "execution_count": 34,
     "metadata": {},
     "output_type": "execute_result"
    }
   ],
   "source": [
    "type(name3)"
   ]
  },
  {
   "cell_type": "code",
   "execution_count": null,
   "id": "503e589f",
   "metadata": {},
   "outputs": [],
   "source": []
  },
  {
   "cell_type": "code",
   "execution_count": null,
   "id": "90682973",
   "metadata": {},
   "outputs": [],
   "source": [
    "day 3 "
   ]
  },
  {
   "cell_type": "code",
   "execution_count": 35,
   "id": "7611dc8f",
   "metadata": {},
   "outputs": [],
   "source": [
    "full_name  = 'sandeep muttireddi'"
   ]
  },
  {
   "cell_type": "code",
   "execution_count": 36,
   "id": "f3aa4dba",
   "metadata": {},
   "outputs": [
    {
     "name": "stdout",
     "output_type": "stream",
     "text": [
      "sandeep muttireddi\n"
     ]
    }
   ],
   "source": [
    "print(full_name)"
   ]
  },
  {
   "cell_type": "code",
   "execution_count": null,
   "id": "fa545ab9",
   "metadata": {},
   "outputs": [],
   "source": []
  },
  {
   "cell_type": "code",
   "execution_count": 37,
   "id": "1fb105fb",
   "metadata": {},
   "outputs": [
    {
     "name": "stdout",
     "output_type": "stream",
     "text": [
      "Sandeep Muttireddi\n"
     ]
    }
   ],
   "source": [
    "print(full_name.title())  # title()"
   ]
  },
  {
   "cell_type": "code",
   "execution_count": 38,
   "id": "406cad57",
   "metadata": {},
   "outputs": [
    {
     "name": "stdout",
     "output_type": "stream",
     "text": [
      "SANDEEP MUTTIREDDI\n"
     ]
    }
   ],
   "source": [
    "print(full_name.upper())  # upper()"
   ]
  },
  {
   "cell_type": "code",
   "execution_count": 39,
   "id": "1c117157",
   "metadata": {},
   "outputs": [
    {
     "name": "stdout",
     "output_type": "stream",
     "text": [
      "sandeep muttireddi\n"
     ]
    }
   ],
   "source": [
    "print(full_name.lower())   #lower()"
   ]
  },
  {
   "cell_type": "code",
   "execution_count": null,
   "id": "2a4f1924",
   "metadata": {},
   "outputs": [],
   "source": []
  },
  {
   "cell_type": "code",
   "execution_count": null,
   "id": "f880ae6d",
   "metadata": {},
   "outputs": [],
   "source": [
    "f strings"
   ]
  },
  {
   "cell_type": "code",
   "execution_count": 41,
   "id": "7d2b7d19",
   "metadata": {},
   "outputs": [],
   "source": [
    "first_name = 'sandeep'\n",
    "last_name = 'naidu'"
   ]
  },
  {
   "cell_type": "code",
   "execution_count": 42,
   "id": "748a048d",
   "metadata": {},
   "outputs": [],
   "source": [
    "full_name = f\"{first_name} {last_name}\""
   ]
  },
  {
   "cell_type": "code",
   "execution_count": 43,
   "id": "99914183",
   "metadata": {},
   "outputs": [
    {
     "name": "stdout",
     "output_type": "stream",
     "text": [
      "sandeep naidu\n"
     ]
    }
   ],
   "source": [
    "print(full_name)"
   ]
  },
  {
   "cell_type": "code",
   "execution_count": null,
   "id": "cdf34b7f",
   "metadata": {},
   "outputs": [],
   "source": []
  },
  {
   "cell_type": "code",
   "execution_count": 44,
   "id": "980cef75",
   "metadata": {},
   "outputs": [
    {
     "name": "stdout",
     "output_type": "stream",
     "text": [
      "Sandeep Naidu\n"
     ]
    }
   ],
   "source": [
    "print(full_name.title())"
   ]
  },
  {
   "cell_type": "code",
   "execution_count": 45,
   "id": "c22c3a1e",
   "metadata": {},
   "outputs": [
    {
     "name": "stdout",
     "output_type": "stream",
     "text": [
      "Hello,Sandeep Naidu\n"
     ]
    }
   ],
   "source": [
    "print(f\"Hello,{full_name.title()}\")"
   ]
  },
  {
   "cell_type": "code",
   "execution_count": null,
   "id": "e791121c",
   "metadata": {},
   "outputs": [],
   "source": []
  },
  {
   "cell_type": "code",
   "execution_count": 46,
   "id": "81642691",
   "metadata": {},
   "outputs": [
    {
     "name": "stdout",
     "output_type": "stream",
     "text": [
      "fav_prog_language: pythonc++javajavascriptpascal\n"
     ]
    }
   ],
   "source": [
    "print(\"fav_prog_language: pythonc++javajavascriptpascal\")"
   ]
  },
  {
   "cell_type": "code",
   "execution_count": 48,
   "id": "09ea5a1f",
   "metadata": {},
   "outputs": [
    {
     "name": "stdout",
     "output_type": "stream",
     "text": [
      "fav_prog_language:\n",
      "python\n",
      "c++\n",
      "java\n",
      "javascript\n",
      "pascal\n"
     ]
    }
   ],
   "source": [
    "print(\"fav_prog_language:\\npython\\nc++\\njava\\njavascript\\npascal\")"
   ]
  },
  {
   "cell_type": "code",
   "execution_count": 49,
   "id": "2e8ad170",
   "metadata": {},
   "outputs": [
    {
     "name": "stdout",
     "output_type": "stream",
     "text": [
      "fav_prog_language:\n",
      "\tpython\n",
      "\tc++\n",
      "\tjava\n",
      "\tjavascript\n",
      "\tpascal\n"
     ]
    }
   ],
   "source": [
    "print(\"fav_prog_language:\\n\\tpython\\n\\tc++\\n\\tjava\\n\\tjavascript\\n\\tpascal\")"
   ]
  },
  {
   "cell_type": "code",
   "execution_count": null,
   "id": "6fabdb0c",
   "metadata": {},
   "outputs": [],
   "source": [
    "\\"
   ]
  },
  {
   "cell_type": "code",
   "execution_count": null,
   "id": "a6242d2b",
   "metadata": {},
   "outputs": [],
   "source": [
    " \\n new line delimiter \n",
    "    \\t tab  delimiter "
   ]
  },
  {
   "cell_type": "code",
   "execution_count": null,
   "id": "8c7497da",
   "metadata": {},
   "outputs": [],
   "source": []
  },
  {
   "cell_type": "code",
   "execution_count": 50,
   "id": "4d417654",
   "metadata": {},
   "outputs": [],
   "source": [
    "language = 'python'"
   ]
  },
  {
   "cell_type": "code",
   "execution_count": 51,
   "id": "c25a338f",
   "metadata": {},
   "outputs": [
    {
     "name": "stdout",
     "output_type": "stream",
     "text": [
      "python\n"
     ]
    }
   ],
   "source": [
    "print(language)"
   ]
  },
  {
   "cell_type": "code",
   "execution_count": 52,
   "id": "174cb7e7",
   "metadata": {},
   "outputs": [],
   "source": [
    "language2 = '    java'"
   ]
  },
  {
   "cell_type": "code",
   "execution_count": 53,
   "id": "ff7da814",
   "metadata": {},
   "outputs": [
    {
     "name": "stdout",
     "output_type": "stream",
     "text": [
      "    java\n"
     ]
    }
   ],
   "source": [
    "print(language2)"
   ]
  },
  {
   "cell_type": "code",
   "execution_count": 54,
   "id": "8a8a6e59",
   "metadata": {},
   "outputs": [],
   "source": [
    "language3 = 'c    '"
   ]
  },
  {
   "cell_type": "code",
   "execution_count": 55,
   "id": "b1cc48f2",
   "metadata": {},
   "outputs": [
    {
     "name": "stdout",
     "output_type": "stream",
     "text": [
      "c    \n"
     ]
    }
   ],
   "source": [
    "print(language3)"
   ]
  },
  {
   "cell_type": "code",
   "execution_count": null,
   "id": "c159774a",
   "metadata": {},
   "outputs": [],
   "source": []
  },
  {
   "cell_type": "code",
   "execution_count": 56,
   "id": "bcabc303",
   "metadata": {},
   "outputs": [
    {
     "data": {
      "text/plain": [
       "'java'"
      ]
     },
     "execution_count": 56,
     "metadata": {},
     "output_type": "execute_result"
    }
   ],
   "source": [
    "language2.lstrip()"
   ]
  },
  {
   "cell_type": "code",
   "execution_count": 57,
   "id": "6999290e",
   "metadata": {},
   "outputs": [
    {
     "data": {
      "text/plain": [
       "'c'"
      ]
     },
     "execution_count": 57,
     "metadata": {},
     "output_type": "execute_result"
    }
   ],
   "source": [
    "language3.rstrip()"
   ]
  },
  {
   "cell_type": "code",
   "execution_count": 61,
   "id": "b4ef0917",
   "metadata": {},
   "outputs": [
    {
     "data": {
      "text/plain": [
       "'java'"
      ]
     },
     "execution_count": 61,
     "metadata": {},
     "output_type": "execute_result"
    }
   ],
   "source": [
    "language2.strip()"
   ]
  },
  {
   "cell_type": "code",
   "execution_count": 58,
   "id": "b2b6835f",
   "metadata": {},
   "outputs": [],
   "source": [
    "name = '   nani    '"
   ]
  },
  {
   "cell_type": "code",
   "execution_count": 60,
   "id": "aed1698a",
   "metadata": {},
   "outputs": [
    {
     "data": {
      "text/plain": [
       "'nani'"
      ]
     },
     "execution_count": 60,
     "metadata": {},
     "output_type": "execute_result"
    }
   ],
   "source": [
    "name.strip()"
   ]
  },
  {
   "cell_type": "code",
   "execution_count": null,
   "id": "2d024d03",
   "metadata": {},
   "outputs": [],
   "source": [
    "search elimination "
   ]
  },
  {
   "cell_type": "code",
   "execution_count": null,
   "id": "d787ee38",
   "metadata": {},
   "outputs": [],
   "source": [
    "day 4"
   ]
  },
  {
   "cell_type": "code",
   "execution_count": null,
   "id": "b5efa31c",
   "metadata": {},
   "outputs": [],
   "source": []
  },
  {
   "cell_type": "code",
   "execution_count": null,
   "id": "34084c40",
   "metadata": {},
   "outputs": [],
   "source": [
    "list [] "
   ]
  },
  {
   "cell_type": "code",
   "execution_count": null,
   "id": "fb309fb8",
   "metadata": {},
   "outputs": [],
   "source": []
  },
  {
   "cell_type": "code",
   "execution_count": 62,
   "id": "873f143c",
   "metadata": {},
   "outputs": [],
   "source": [
    "students = ['nani','sanju','naveen']"
   ]
  },
  {
   "cell_type": "code",
   "execution_count": 63,
   "id": "d9955e8e",
   "metadata": {},
   "outputs": [
    {
     "name": "stdout",
     "output_type": "stream",
     "text": [
      "['nani', 'sanju', 'naveen']\n"
     ]
    }
   ],
   "source": [
    "print(students)"
   ]
  },
  {
   "cell_type": "code",
   "execution_count": null,
   "id": "f299c1da",
   "metadata": {},
   "outputs": [],
   "source": []
  },
  {
   "cell_type": "code",
   "execution_count": 64,
   "id": "e324d6ca",
   "metadata": {},
   "outputs": [
    {
     "data": {
      "text/plain": [
       "list"
      ]
     },
     "execution_count": 64,
     "metadata": {},
     "output_type": "execute_result"
    }
   ],
   "source": [
    "type(students)"
   ]
  },
  {
   "cell_type": "code",
   "execution_count": null,
   "id": "7660f579",
   "metadata": {},
   "outputs": [],
   "source": []
  },
  {
   "cell_type": "code",
   "execution_count": 65,
   "id": "b92ce31f",
   "metadata": {},
   "outputs": [
    {
     "name": "stdout",
     "output_type": "stream",
     "text": [
      "nani\n"
     ]
    }
   ],
   "source": [
    "print(students[0])"
   ]
  },
  {
   "cell_type": "code",
   "execution_count": null,
   "id": "9df4bc7f",
   "metadata": {},
   "outputs": [],
   "source": []
  },
  {
   "cell_type": "code",
   "execution_count": 66,
   "id": "50b23e8f",
   "metadata": {},
   "outputs": [],
   "source": [
    "students.append('sandy')"
   ]
  },
  {
   "cell_type": "code",
   "execution_count": 67,
   "id": "d7d06572",
   "metadata": {},
   "outputs": [
    {
     "name": "stdout",
     "output_type": "stream",
     "text": [
      "['nani', 'sanju', 'naveen', 'sandy']\n"
     ]
    }
   ],
   "source": [
    "print(students)"
   ]
  },
  {
   "cell_type": "code",
   "execution_count": null,
   "id": "daa5961b",
   "metadata": {},
   "outputs": [],
   "source": []
  },
  {
   "cell_type": "code",
   "execution_count": null,
   "id": "333893c5",
   "metadata": {},
   "outputs": [],
   "source": []
  }
 ],
 "metadata": {
  "kernelspec": {
   "display_name": "Python 3 (ipykernel)",
   "language": "python",
   "name": "python3"
  },
  "language_info": {
   "codemirror_mode": {
    "name": "ipython",
    "version": 3
   },
   "file_extension": ".py",
   "mimetype": "text/x-python",
   "name": "python",
   "nbconvert_exporter": "python",
   "pygments_lexer": "ipython3",
   "version": "3.7.10"
  }
 },
 "nbformat": 4,
 "nbformat_minor": 5
}
