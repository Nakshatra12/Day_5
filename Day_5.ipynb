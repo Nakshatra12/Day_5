{
 "cells": [
  {
   "cell_type": "code",
   "execution_count": null,
   "id": "90fb1282",
   "metadata": {},
   "outputs": [],
   "source": [
    "continuation with lists :"
   ]
  },
  {
   "cell_type": "code",
   "execution_count": null,
   "id": "d5e89342",
   "metadata": {},
   "outputs": [],
   "source": [
    "Organising the list data type :"
   ]
  },
  {
   "cell_type": "code",
   "execution_count": null,
   "id": "586d748e",
   "metadata": {},
   "outputs": [],
   "source": []
  },
  {
   "cell_type": "code",
   "execution_count": 1,
   "id": "0ba6433c",
   "metadata": {},
   "outputs": [],
   "source": [
    "cars = ['swift','toyota','bmw','audi','benz','ciaz']"
   ]
  },
  {
   "cell_type": "code",
   "execution_count": 2,
   "id": "ca7135b7",
   "metadata": {},
   "outputs": [
    {
     "name": "stdout",
     "output_type": "stream",
     "text": [
      "['swift', 'toyota', 'bmw', 'audi', 'benz', 'ciaz']\n"
     ]
    }
   ],
   "source": [
    "print(cars)"
   ]
  },
  {
   "cell_type": "code",
   "execution_count": null,
   "id": "479305f4",
   "metadata": {},
   "outputs": [],
   "source": []
  },
  {
   "cell_type": "code",
   "execution_count": null,
   "id": "c610958f",
   "metadata": {},
   "outputs": [],
   "source": [
    "# req : i want to organize the list in a A-z alphabetical order...!"
   ]
  },
  {
   "cell_type": "code",
   "execution_count": null,
   "id": "9f8b3a46",
   "metadata": {},
   "outputs": [],
   "source": []
  },
  {
   "cell_type": "code",
   "execution_count": null,
   "id": "ff099122",
   "metadata": {},
   "outputs": [],
   "source": [
    "two approches :"
   ]
  },
  {
   "cell_type": "code",
   "execution_count": null,
   "id": "21ea4353",
   "metadata": {},
   "outputs": [],
   "source": [
    "1. temp approach -----> sorted\n",
    "2. permanent approach -----> sort "
   ]
  },
  {
   "cell_type": "code",
   "execution_count": null,
   "id": "372c70f9",
   "metadata": {},
   "outputs": [],
   "source": []
  },
  {
   "cell_type": "code",
   "execution_count": 3,
   "id": "fc9797af",
   "metadata": {},
   "outputs": [
    {
     "data": {
      "text/plain": [
       "['audi', 'benz', 'bmw', 'ciaz', 'swift', 'toyota']"
      ]
     },
     "execution_count": 3,
     "metadata": {},
     "output_type": "execute_result"
    }
   ],
   "source": [
    "sorted(cars)"
   ]
  },
  {
   "cell_type": "code",
   "execution_count": null,
   "id": "e5f35142",
   "metadata": {},
   "outputs": [],
   "source": []
  },
  {
   "cell_type": "code",
   "execution_count": null,
   "id": "32168a16",
   "metadata": {},
   "outputs": [],
   "source": [
    "sort ----> it is a permanent approach :"
   ]
  },
  {
   "cell_type": "code",
   "execution_count": null,
   "id": "83061eb2",
   "metadata": {},
   "outputs": [],
   "source": []
  },
  {
   "cell_type": "code",
   "execution_count": 4,
   "id": "561396bd",
   "metadata": {},
   "outputs": [],
   "source": [
    "cars.sort()"
   ]
  },
  {
   "cell_type": "code",
   "execution_count": 5,
   "id": "8355a886",
   "metadata": {},
   "outputs": [
    {
     "name": "stdout",
     "output_type": "stream",
     "text": [
      "['audi', 'benz', 'bmw', 'ciaz', 'swift', 'toyota']\n"
     ]
    }
   ],
   "source": [
    "print(cars)"
   ]
  },
  {
   "cell_type": "code",
   "execution_count": 6,
   "id": "eb9fa50a",
   "metadata": {},
   "outputs": [
    {
     "name": "stdout",
     "output_type": "stream",
     "text": [
      "['audi', 'benz', 'bmw', 'ciaz', 'swift', 'toyota']\n"
     ]
    }
   ],
   "source": [
    "print(cars)"
   ]
  },
  {
   "cell_type": "code",
   "execution_count": null,
   "id": "a092795e",
   "metadata": {},
   "outputs": [],
   "source": []
  },
  {
   "cell_type": "code",
   "execution_count": null,
   "id": "0e63b20d",
   "metadata": {},
   "outputs": [],
   "source": [
    "# how to print the list in the reverse order..."
   ]
  },
  {
   "cell_type": "code",
   "execution_count": 7,
   "id": "0519da51",
   "metadata": {},
   "outputs": [
    {
     "name": "stdout",
     "output_type": "stream",
     "text": [
      "['audi', 'benz', 'bmw', 'ciaz', 'swift', 'toyota']\n"
     ]
    }
   ],
   "source": [
    "print(cars)"
   ]
  },
  {
   "cell_type": "code",
   "execution_count": null,
   "id": "9fd5c0b2",
   "metadata": {},
   "outputs": [],
   "source": []
  },
  {
   "cell_type": "code",
   "execution_count": 8,
   "id": "3bc30bfb",
   "metadata": {},
   "outputs": [],
   "source": [
    "cars.reverse()"
   ]
  },
  {
   "cell_type": "code",
   "execution_count": 9,
   "id": "91a287f2",
   "metadata": {},
   "outputs": [
    {
     "name": "stdout",
     "output_type": "stream",
     "text": [
      "['toyota', 'swift', 'ciaz', 'bmw', 'benz', 'audi']\n"
     ]
    }
   ],
   "source": [
    "print(cars)"
   ]
  },
  {
   "cell_type": "code",
   "execution_count": null,
   "id": "6b58fafd",
   "metadata": {},
   "outputs": [],
   "source": []
  },
  {
   "cell_type": "code",
   "execution_count": null,
   "id": "cdd65d08",
   "metadata": {},
   "outputs": [],
   "source": [
    "# how to count the no of elements in the list...?"
   ]
  },
  {
   "cell_type": "code",
   "execution_count": 10,
   "id": "c6d1e60b",
   "metadata": {},
   "outputs": [
    {
     "data": {
      "text/plain": [
       "6"
      ]
     },
     "execution_count": 10,
     "metadata": {},
     "output_type": "execute_result"
    }
   ],
   "source": [
    "len(cars)"
   ]
  },
  {
   "cell_type": "code",
   "execution_count": null,
   "id": "067aa48a",
   "metadata": {},
   "outputs": [],
   "source": []
  }
 ],
 "metadata": {
  "kernelspec": {
   "display_name": "Python 3 (ipykernel)",
   "language": "python",
   "name": "python3"
  },
  "language_info": {
   "codemirror_mode": {
    "name": "ipython",
    "version": 3
   },
   "file_extension": ".py",
   "mimetype": "text/x-python",
   "name": "python",
   "nbconvert_exporter": "python",
   "pygments_lexer": "ipython3",
   "version": "3.7.10"
  }
 },
 "nbformat": 4,
 "nbformat_minor": 5
}
